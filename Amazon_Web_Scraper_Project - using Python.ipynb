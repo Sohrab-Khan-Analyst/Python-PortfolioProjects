{
 "cells": [
  {
   "cell_type": "code",
   "execution_count": null,
   "id": "65daa4d7",
   "metadata": {},
   "outputs": [],
   "source": [
    "\n",
    "# Import Libraries:\n",
    "\n",
    "from bs4 import BeautifulSoup\n",
    "import requests\n",
    "import time\n",
    "import datetime\n",
    "\n",
    "import smtplib"
   ]
  },
  {
   "cell_type": "code",
   "execution_count": null,
   "id": "b700ef37",
   "metadata": {
    "scrolled": false
   },
   "outputs": [],
   "source": [
    "\n",
    "# Connect to website & Pull in Data:\n",
    "\n",
    "\n",
    "URL = 'https://www.amazon.in/Quote-Marshals-Funky-Cotton-T-Shirt/dp/B0877B3SC5/ref=sr_1_1_sspa?crid=2RS5LT6EX202B&keywords=funny%2Bgot%2Bdata%2Bmis%2Bdata%2Bsystems%2Bbusiness%2Banalyst%2Btshirt&qid=1681383109&sprefix=funny%2Bgot%2Bdata%2Bmis%2Bdata%2Bsystems%2Bbusiness%2Banalyst%2Btshirt%2Caps%2C591&sr=8-1-spons&sp_csd=d2lkZ2V0TmFtZT1zcF9tdGY&th=1&psc=1'\n",
    "\n",
    "headers = {\"User-Agent\": \"Mozilla/5.0 (Windows NT 10.0; Win64; x64) AppleWebKit/537.36 (KHTML, like Gecko) Chrome/112.0.0.0 Safari/537.36\", \"Accept-Encoding\":\"gzip, deflate\", \"Accept\":\"text/html,application/xhtml+xml,application/xml;q=0.9,*/*;q=0.8\", \"DNT\":\"1\",\"Connection\":\"close\", \"Upgrade-Insecure-Requests\":\"1\"}\n",
    "\n",
    "page = requests.get(URL, headers = headers)\n",
    "\n",
    "soup1 = BeautifulSoup(page.content, \"html.parser\")\n",
    "\n",
    "soup2 = BeautifulSoup(soup1.prettify(), \"html.parser\")\n",
    "\n",
    "\n",
    "# We are pulling Title & Price Data.\n",
    "\n",
    "title = soup2.find('span',{'id': 'productTitle'}).get_text()\n",
    "\n",
    "price = soup2.find('span', {'class':'a-price-whole'}).get_text()\n",
    "\n",
    "\n",
    "print(title)\n",
    "print(price)\n"
   ]
  },
  {
   "cell_type": "code",
   "execution_count": null,
   "id": "52ae945c",
   "metadata": {},
   "outputs": [],
   "source": [
    "\n",
    "# Clean up the data a little bit:\n",
    "\n",
    "price = price.strip()\n",
    "title = title.strip()\n",
    "\n",
    "print(title)\n",
    "print(price)\n"
   ]
  },
  {
   "cell_type": "code",
   "execution_count": null,
   "id": "cb0c35d4",
   "metadata": {},
   "outputs": [],
   "source": [
    "\n",
    "# Create a Timestamp for your output to track when data was collected:\n",
    "\n",
    "import datetime\n",
    "\n",
    "today = datetime.date.today()\n",
    "\n",
    "print(today)\n"
   ]
  },
  {
   "cell_type": "code",
   "execution_count": null,
   "id": "27375291",
   "metadata": {},
   "outputs": [],
   "source": [
    "\n",
    "# Create CSV and write headers and data into the file:\n",
    "\n",
    "import csv\n",
    "\n",
    "header = ['Title', 'Price', 'Date']\n",
    "data = [title, price, today]\n",
    "\n",
    "with open('AmazonWebScrapperDataset.csv', 'w', newline='', encoding='UTF8') as f:\n",
    "    writer = csv.writer(f)\n",
    "    writer.writerow(header)\n",
    "    writer.writerow(data)\n"
   ]
  },
  {
   "cell_type": "code",
   "execution_count": null,
   "id": "1998d2f4",
   "metadata": {},
   "outputs": [],
   "source": [
    "\n",
    "import pandas as pd\n",
    "\n",
    "df = pd.read_csv(r'C:\\Users\\SOHRAB KHAN\\AmazonWebScrapperDataset.csv')\n",
    "\n",
    "print(df)\n"
   ]
  },
  {
   "cell_type": "code",
   "execution_count": null,
   "id": "6aa46f1b",
   "metadata": {},
   "outputs": [],
   "source": [
    "\n",
    "# Now we are appending data to the csv:\n",
    "\n",
    "with open('AmazonWebScrapperDataset.csv', 'a+', newline='', encoding='UTF8') as f:\n",
    "    writer = csv.writer(f)\n",
    "    writer.writerow(data)\n",
    "    "
   ]
  },
  {
   "cell_type": "code",
   "execution_count": null,
   "id": "d4a80bb4",
   "metadata": {},
   "outputs": [],
   "source": [
    "\n",
    "# Combine all of the above code into one function:\n",
    "\n",
    "def check_price():\n",
    "    URL = 'https://www.amazon.in/Quote-Marshals-Funky-Cotton-T-Shirt/dp/B0877B3SC5/ref=sr_1_1_sspa?crid=2RS5LT6EX202B&keywords=funny%2Bgot%2Bdata%2Bmis%2Bdata%2Bsystems%2Bbusiness%2Banalyst%2Btshirt&qid=1681383109&sprefix=funny%2Bgot%2Bdata%2Bmis%2Bdata%2Bsystems%2Bbusiness%2Banalyst%2Btshirt%2Caps%2C591&sr=8-1-spons&sp_csd=d2lkZ2V0TmFtZT1zcF9tdGY&th=1&psc=1'\n",
    "\n",
    "    headers = {\"User-Agent\": \"Mozilla/5.0 (Windows NT 10.0; Win64; x64) AppleWebKit/537.36 (KHTML, like Gecko) Chrome/112.0.0.0 Safari/537.36\", \"Accept-Encoding\":\"gzip, deflate\", \"Accept\":\"text/html,application/xhtml+xml,application/xml;q=0.9,*/*;q=0.8\", \"DNT\":\"1\",\"Connection\":\"close\", \"Upgrade-Insecure-Requests\":\"1\"}\n",
    "\n",
    "    page = requests.get(URL, headers = headers)\n",
    "    \n",
    "    soup1 = BeautifulSoup(page.content, \"html.parser\")\n",
    "\n",
    "    soup2 = BeautifulSoup(soup1.prettify(), \"html.parser\")\n",
    "\n",
    "    title = soup2.find('span',{'id': 'productTitle'}).get_text()\n",
    "\n",
    "    price = soup2.find('span',{'class':'a-price-whole'}).get_text()\n",
    "    \n",
    "    price = price.strip()\n",
    "    title = title.strip()\n",
    "\n",
    "    import datetime\n",
    "\n",
    "    today = datetime.date.today()\n",
    "    \n",
    "    import csv\n",
    "\n",
    "    header = ['Title', 'Price', 'Date']\n",
    "    data = [title, price, today]\n",
    "    \n",
    "    with open('AmazonWebScrapperDataset.csv', 'a+', newline='', encoding='UTF8') as f:\n",
    "        writer = csv.writer(f)\n",
    "        writer.writerow(data)\n",
    "        "
   ]
  },
  {
   "cell_type": "code",
   "execution_count": null,
   "id": "ebffd67b",
   "metadata": {},
   "outputs": [],
   "source": [
    "\n",
    "# Runs check_price after a set time(in Seconds: 24 hrs = 86400 seconds) and inputs data into your CSV:\n",
    "\n",
    "while(True):\n",
    "    check_price()\n",
    "    time.sleep(86400)\n",
    "    "
   ]
  },
  {
   "cell_type": "code",
   "execution_count": null,
   "id": "f955d4bd",
   "metadata": {},
   "outputs": [],
   "source": [
    "\n",
    "import pandas as pd\n",
    "\n",
    "df = pd.read_csv(r'C:\\Users\\SOHRAB KHAN\\AmazonWebScrapperDataset.csv')\n",
    "\n",
    "print(df)\n"
   ]
  },
  {
   "cell_type": "code",
   "execution_count": null,
   "id": "dc46ebbd",
   "metadata": {},
   "outputs": [],
   "source": []
  }
 ],
 "metadata": {
  "kernelspec": {
   "display_name": "Python 3 (ipykernel)",
   "language": "python",
   "name": "python3"
  },
  "language_info": {
   "codemirror_mode": {
    "name": "ipython",
    "version": 3
   },
   "file_extension": ".py",
   "mimetype": "text/x-python",
   "name": "python",
   "nbconvert_exporter": "python",
   "pygments_lexer": "ipython3",
   "version": "3.9.13"
  }
 },
 "nbformat": 4,
 "nbformat_minor": 5
}
