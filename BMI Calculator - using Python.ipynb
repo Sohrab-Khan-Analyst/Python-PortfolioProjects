{
 "cells": [
  {
   "cell_type": "markdown",
   "id": "5f67e9fb",
   "metadata": {},
   "source": [
    "# BMI Calculator "
   ]
  },
  {
   "cell_type": "markdown",
   "id": "b54682db",
   "metadata": {},
   "source": []
  },
  {
   "cell_type": "code",
   "execution_count": null,
   "id": "2a8d58b1",
   "metadata": {},
   "outputs": [],
   "source": [
    "name = input(\"Enter your name: \")\n",
    "\n",
    "weight = int(input(\"Enter your weight in pounds:  \"))\n",
    "\n",
    "height = int(input(\"Enter your height in inches:  \"))\n",
    "\n",
    "BMI = (weight * 703) / (height * height)\n",
    "\n",
    "print(BMI)\n",
    "\n",
    "if (BMI>0):\n",
    "    if (BMI<18.5):\n",
    "        print(name + \" ,You are underwieght.\")\n",
    "    elif(BMI<=24.9):\n",
    "         print(name + \" ,You are Normal wieght. Congrats!\")\n",
    "    elif(BMI<=29.9):\n",
    "         print(name+ \" ,You are overweight.\")\n",
    "    elif(BMI<=34.9):\n",
    "         print(name + \" ,You are obese.\")\n",
    "    elif(BMI<=39.9):\n",
    "         print(name + \" ,You are severly obese.\")\n",
    "    else:\n",
    "         print(name + \" ,You are Morbidly Obese.\")\n",
    "else:\n",
    "    print(\"Enter a valid input\")\n",
    "    \n"
   ]
  },
  {
   "cell_type": "code",
   "execution_count": null,
   "id": "1ea89af4",
   "metadata": {},
   "outputs": [],
   "source": []
  },
  {
   "cell_type": "code",
   "execution_count": null,
   "id": "d6031ed9",
   "metadata": {},
   "outputs": [],
   "source": []
  },
  {
   "cell_type": "markdown",
   "id": "3042e9e8",
   "metadata": {},
   "source": [
    "# <i><u> Calculations and Measures <b>"
   ]
  },
  {
   "cell_type": "markdown",
   "id": "5808234d",
   "metadata": {},
   "source": [
    "<b> <i> # BMI = (weight in pounds x 703) / (height in inches x height in inches) <b>"
   ]
  },
  {
   "cell_type": "markdown",
   "id": "d4ae4256",
   "metadata": {},
   "source": [
    "<b> Under 18.5\tUnderweight\tMinimal\n",
    "\n",
    "<b> 18.5 - 24.9\tNormal Weight\tMinimal\n",
    "\n",
    "<b> 25 - 29.9\tOverweight\tIncreased\n",
    "\n",
    "<b> 30 - 34.9\tObese\tHigh\n",
    "\n",
    "<b> 35 - 39.9\tSeverely Obese\tVery High\n",
    "\n",
    "<b> 40 and over\tMorbidly Obese\tExtremely High"
   ]
  },
  {
   "cell_type": "code",
   "execution_count": null,
   "id": "4b26505b",
   "metadata": {},
   "outputs": [],
   "source": []
  }
 ],
 "metadata": {
  "kernelspec": {
   "display_name": "Python 3 (ipykernel)",
   "language": "python",
   "name": "python3"
  },
  "language_info": {
   "codemirror_mode": {
    "name": "ipython",
    "version": 3
   },
   "file_extension": ".py",
   "mimetype": "text/x-python",
   "name": "python",
   "nbconvert_exporter": "python",
   "pygments_lexer": "ipython3",
   "version": "3.9.13"
  }
 },
 "nbformat": 4,
 "nbformat_minor": 5
}
