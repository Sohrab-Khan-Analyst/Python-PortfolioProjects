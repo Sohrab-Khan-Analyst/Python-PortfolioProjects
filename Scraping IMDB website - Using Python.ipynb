{
 "cells": [
  {
   "cell_type": "markdown",
   "id": "b1b5e2c5",
   "metadata": {},
   "source": [
    "# <b> <i>Web Scraping in Python using Beautiful Soup, and Requests. </b> </i>"
   ]
  },
  {
   "cell_type": "markdown",
   "id": "9a10d90e",
   "metadata": {},
   "source": [
    "<b> ============================ </b>"
   ]
  },
  {
   "cell_type": "code",
   "execution_count": null,
   "id": "c904ad4c",
   "metadata": {},
   "outputs": [],
   "source": [
    "# Importing the Necessary Modules & Libraries:\n",
    "\n",
    "import requests\n",
    "from bs4 import BeautifulSoup\n",
    "import pandas as pd\n"
   ]
  },
  {
   "cell_type": "code",
   "execution_count": null,
   "id": "ef9844e4",
   "metadata": {},
   "outputs": [],
   "source": [
    "\n",
    "#Step 1: Scraping the Name of the Movie, Rank in the 'Top 250 Movies' List,\n",
    "# Year of Release , and IMDb Rating out of 10.\n",
    "\n",
    "try:\n",
    "    source = requests.get(\"https://www.imdb.com/chart/top/\")\n",
    "    source.raise_for_status()\n",
    "\n",
    "    soup = BeautifulSoup(source.text, 'html.parser')\n",
    "    \n",
    "    movies = soup.find('tbody', class_ = \"lister-list\").find_all('tr')\n",
    "    \n",
    "    data = []\n",
    "    for movie in movies:\n",
    "        \n",
    "        name = movie.find('td', class_ = \"titleColumn\").a.text  \n",
    "        rank = movie.find('td', class_ = \"titleColumn\").get_text(strip = True).split('.')[0]        \n",
    "        year = movie.find('td', class_ = \"titleColumn\").span.text.strip(\"()\")        \n",
    "        rating = movie.find('td', class_ = \"ratingColumn imdbRating\").strong.text\n",
    "        rating_format = rating + \"/10\"\n",
    "        \n",
    "        data.append([rank, name, year, rating_format])\n",
    "\n",
    "        \n",
    "        \n",
    "# Step 2: Creating an Excel File, and inputting the Scraped Data.\n",
    "\n",
    "    df = pd.DataFrame(data, columns=[\"Rank\", \"Name\", \"Year\", \"Rating\"])\n",
    "    df.to_excel(\"Top Rated Movies.xlsx\", index = False)\n",
    "    print(\"Task Completed Successfully!\")\n",
    "            \n",
    "\n",
    "except Exception as e:\n",
    "    print(e)\n"
   ]
  },
  {
   "cell_type": "code",
   "execution_count": null,
   "id": "c2089e9d",
   "metadata": {},
   "outputs": [],
   "source": []
  }
 ],
 "metadata": {
  "kernelspec": {
   "display_name": "Python 3 (ipykernel)",
   "language": "python",
   "name": "python3"
  },
  "language_info": {
   "codemirror_mode": {
    "name": "ipython",
    "version": 3
   },
   "file_extension": ".py",
   "mimetype": "text/x-python",
   "name": "python",
   "nbconvert_exporter": "python",
   "pygments_lexer": "ipython3",
   "version": "3.10.9"
  }
 },
 "nbformat": 4,
 "nbformat_minor": 5
}
